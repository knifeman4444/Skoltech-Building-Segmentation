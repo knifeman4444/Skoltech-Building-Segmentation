{
 "cells": [
  {
   "cell_type": "code",
   "execution_count": 31,
   "id": "initial_id",
   "metadata": {
    "collapsed": true,
    "ExecuteTime": {
     "end_time": "2023-11-23T22:08:24.546198356Z",
     "start_time": "2023-11-23T22:08:24.505875249Z"
    }
   },
   "outputs": [
    {
     "data": {
      "text/plain": "<module 'Utils.segmentation_model' from '/home/flypew/Programming/Hackathons/skoltech_Infrastructure/Utils/segmentation_model.py'>"
     },
     "execution_count": 31,
     "metadata": {},
     "output_type": "execute_result"
    }
   ],
   "source": [
    "import torch\n",
    "import torch.nn as nn\n",
    "import numpy as np\n",
    "\n",
    "from Utils.segmentation_model import SegmentationModel"
   ]
  },
  {
   "cell_type": "code",
   "execution_count": 34,
   "outputs": [
    {
     "name": "stdout",
     "output_type": "stream",
     "text": [
      "Downloading http://yann.lecun.com/exdb/mnist/train-images-idx3-ubyte.gz\n",
      "Downloading http://yann.lecun.com/exdb/mnist/train-images-idx3-ubyte.gz to /tmp/MNIST/raw/train-images-idx3-ubyte.gz\n"
     ]
    },
    {
     "name": "stderr",
     "output_type": "stream",
     "text": [
      "100%|██████████| 9912422/9912422 [00:02<00:00, 4528226.87it/s]\n"
     ]
    },
    {
     "name": "stdout",
     "output_type": "stream",
     "text": [
      "Extracting /tmp/MNIST/raw/train-images-idx3-ubyte.gz to /tmp/MNIST/raw\n",
      "\n",
      "Downloading http://yann.lecun.com/exdb/mnist/train-labels-idx1-ubyte.gz\n",
      "Downloading http://yann.lecun.com/exdb/mnist/train-labels-idx1-ubyte.gz to /tmp/MNIST/raw/train-labels-idx1-ubyte.gz\n"
     ]
    },
    {
     "name": "stderr",
     "output_type": "stream",
     "text": [
      "100%|██████████| 28881/28881 [00:00<00:00, 22864419.37it/s]\n"
     ]
    },
    {
     "name": "stdout",
     "output_type": "stream",
     "text": [
      "Extracting /tmp/MNIST/raw/train-labels-idx1-ubyte.gz to /tmp/MNIST/raw\n",
      "\n",
      "Downloading http://yann.lecun.com/exdb/mnist/t10k-images-idx3-ubyte.gz\n",
      "Downloading http://yann.lecun.com/exdb/mnist/t10k-images-idx3-ubyte.gz to /tmp/MNIST/raw/t10k-images-idx3-ubyte.gz\n"
     ]
    },
    {
     "name": "stderr",
     "output_type": "stream",
     "text": [
      "100%|██████████| 1648877/1648877 [00:00<00:00, 4900001.41it/s]\n"
     ]
    },
    {
     "name": "stdout",
     "output_type": "stream",
     "text": [
      "Extracting /tmp/MNIST/raw/t10k-images-idx3-ubyte.gz to /tmp/MNIST/raw\n",
      "\n",
      "Downloading http://yann.lecun.com/exdb/mnist/t10k-labels-idx1-ubyte.gz\n",
      "Downloading http://yann.lecun.com/exdb/mnist/t10k-labels-idx1-ubyte.gz to /tmp/MNIST/raw/t10k-labels-idx1-ubyte.gz\n"
     ]
    },
    {
     "name": "stderr",
     "output_type": "stream",
     "text": [
      "100%|██████████| 4542/4542 [00:00<00:00, 3929564.51it/s]"
     ]
    },
    {
     "name": "stdout",
     "output_type": "stream",
     "text": [
      "Extracting /tmp/MNIST/raw/t10k-labels-idx1-ubyte.gz to /tmp/MNIST/raw\n"
     ]
    },
    {
     "name": "stderr",
     "output_type": "stream",
     "text": [
      "\n"
     ]
    }
   ],
   "source": [
    "import torchvision\n",
    "import torchvision.transforms as transforms\n",
    "\n",
    "transform = transforms.Compose([transforms.ToTensor(),\n",
    "                                transforms.Resize((32, 32)),\n",
    "                                transforms.Normalize((0.5,), (0.5,))])\n",
    "\n",
    "trainset = torchvision.datasets.MNIST(root='/tmp', train=True,\n",
    "                                      download=True, transform=transform)\n",
    "\n",
    "valset = torchvision.datasets.MNIST(root='/tmp', train=False, \n",
    "                                    download=True, transform=transform)\n"
   ],
   "metadata": {
    "collapsed": false,
    "ExecuteTime": {
     "end_time": "2023-11-23T22:09:50.564387676Z",
     "start_time": "2023-11-23T22:09:40.609558045Z"
    }
   },
   "id": "30cb8d0ad1a4a37c"
  },
  {
   "cell_type": "code",
   "execution_count": 37,
   "outputs": [],
   "source": [
    "trainloader = torch.utils.data.DataLoader(trainset, batch_size=32,\n",
    "                                          shuffle=True)\n",
    "valloader = torch.utils.data.DataLoader(valset, batch_size=32,\n",
    "                                        shuffle=False)\n",
    "\n",
    "perceptron = torch.nn.Sequential(\n",
    "    torch.nn.Flatten(),\n",
    "    torch.nn.Linear(32*32, 10),\n",
    "    torch.nn.Softmax(dim=1)\n",
    ")\n",
    "\n",
    "loss_fn = torch.nn.CrossEntropyLoss()\n",
    "optimizer = torch.optim.SGD(perceptron.parameters(), lr=0.001, momentum=0.9)\n",
    "\n",
    "model = SegmentationModel(perceptron, \"MNIST\", device=\"cpu\")"
   ],
   "metadata": {
    "collapsed": false,
    "ExecuteTime": {
     "end_time": "2023-11-23T22:10:05.895037265Z",
     "start_time": "2023-11-23T22:10:05.845338817Z"
    }
   },
   "id": "b71bb4b063aac09a"
  },
  {
   "cell_type": "code",
   "execution_count": 42,
   "outputs": [
    {
     "name": "stderr",
     "output_type": "stream",
     "text": [
      "\u001B[34m\u001B[1mwandb\u001B[0m: Logging into wandb.ai. (Learn how to deploy a W&B server locally: https://wandb.me/wandb-server)\n",
      "\u001B[34m\u001B[1mwandb\u001B[0m: You can find your API key in your browser here: https://wandb.ai/authorize\n",
      "\u001B[34m\u001B[1mwandb\u001B[0m: Paste an API key from your profile and hit enter, or press ctrl+c to quit:\u001B[34m\u001B[1mwandb\u001B[0m: Appending key for api.wandb.ai to your netrc file: /home/flypew/.netrc\n"
     ]
    },
    {
     "data": {
      "text/plain": "True"
     },
     "execution_count": 42,
     "metadata": {},
     "output_type": "execute_result"
    }
   ],
   "source": [
    "import wandb\n",
    "wandb.login(relogin=True)"
   ],
   "metadata": {
    "collapsed": false,
    "ExecuteTime": {
     "end_time": "2023-11-23T22:13:02.448306497Z",
     "start_time": "2023-11-23T22:12:59.612835438Z"
    }
   },
   "id": "e8b7c488d86aec9b"
  },
  {
   "cell_type": "code",
   "execution_count": 43,
   "outputs": [
    {
     "name": "stderr",
     "output_type": "stream",
     "text": [
      "\u001B[34m\u001B[1mwandb\u001B[0m: Currently logged in as: \u001B[33mflypew\u001B[0m (\u001B[33mknife_team\u001B[0m). Use \u001B[1m`wandb login --relogin`\u001B[0m to force relogin\n"
     ]
    },
    {
     "data": {
      "text/plain": "<IPython.core.display.HTML object>",
      "text/html": "wandb version 0.16.0 is available!  To upgrade, please run:\n $ pip install wandb --upgrade"
     },
     "metadata": {},
     "output_type": "display_data"
    },
    {
     "data": {
      "text/plain": "<IPython.core.display.HTML object>",
      "text/html": "Tracking run with wandb version 0.15.12"
     },
     "metadata": {},
     "output_type": "display_data"
    },
    {
     "data": {
      "text/plain": "<IPython.core.display.HTML object>",
      "text/html": "Run data is saved locally in <code>/home/flypew/Programming/Hackathons/skoltech_Infrastructure/wandb/run-20231124_011311-9i2wepia</code>"
     },
     "metadata": {},
     "output_type": "display_data"
    },
    {
     "data": {
      "text/plain": "<IPython.core.display.HTML object>",
      "text/html": "Syncing run <strong><a href='https://wandb.ai/knife_team/building-segmentation/runs/9i2wepia' target=\"_blank\">rosy-plant-1</a></strong> to <a href='https://wandb.ai/knife_team/building-segmentation' target=\"_blank\">Weights & Biases</a> (<a href='https://wandb.me/run' target=\"_blank\">docs</a>)<br/>"
     },
     "metadata": {},
     "output_type": "display_data"
    },
    {
     "data": {
      "text/plain": "<IPython.core.display.HTML object>",
      "text/html": " View project at <a href='https://wandb.ai/knife_team/building-segmentation' target=\"_blank\">https://wandb.ai/knife_team/building-segmentation</a>"
     },
     "metadata": {},
     "output_type": "display_data"
    },
    {
     "data": {
      "text/plain": "<IPython.core.display.HTML object>",
      "text/html": " View run at <a href='https://wandb.ai/knife_team/building-segmentation/runs/9i2wepia' target=\"_blank\">https://wandb.ai/knife_team/building-segmentation/runs/9i2wepia</a>"
     },
     "metadata": {},
     "output_type": "display_data"
    },
    {
     "name": "stderr",
     "output_type": "stream",
     "text": [
      "Epoch 1:   0%|          | 0/1875 [00:00<?, ?it/s]/home/flypew/Programming/MLvenv/lib/python3.11/site-packages/torchvision/transforms/functional.py:1603: UserWarning: The default value of the antialias parameter of all the resizing transforms (Resize(), RandomResizedCrop(), etc.) will change from None to True in v0.17, in order to be consistent across the PIL and Tensor backends. To suppress this warning, directly pass antialias=True (recommended, future default), antialias=None (current default, which means False for Tensors and True for PIL), or antialias=False (only works on Tensors - PIL will still use antialiasing). This also applies if you are using the inference transforms from the models weights: update the call to weights.transforms(antialias=True).\n",
      "  warnings.warn(\n",
      "Epoch 1: 100%|██████████| 1875/1875 [00:30<00:00, 62.08it/s, loss=1.66] \n"
     ]
    },
    {
     "name": "stdout",
     "output_type": "stream",
     "text": [
      "Train logs: {'accuracy': 0.8355833, 'train_loss': 1.656434460957845}\n"
     ]
    },
    {
     "name": "stderr",
     "output_type": "stream",
     "text": [
      "100%|██████████| 313/313 [00:02<00:00, 148.47it/s]\n"
     ]
    },
    {
     "name": "stdout",
     "output_type": "stream",
     "text": [
      "Val logs: {'accuracy': 0.87839454, 'val_loss': 1.6234733064334614}\n",
      "New best model! Val accuracy: 0.8783945441246033\n"
     ]
    },
    {
     "name": "stderr",
     "output_type": "stream",
     "text": [
      "Epoch 2: 100%|██████████| 1875/1875 [00:28<00:00, 65.23it/s, loss=1.61] \n"
     ]
    },
    {
     "name": "stdout",
     "output_type": "stream",
     "text": [
      "Train logs: {'accuracy': 0.88853335, 'train_loss': 1.6118717660268147}\n"
     ]
    },
    {
     "name": "stderr",
     "output_type": "stream",
     "text": [
      "100%|██████████| 313/313 [00:02<00:00, 148.60it/s]\n"
     ]
    },
    {
     "name": "stdout",
     "output_type": "stream",
     "text": [
      "Val logs: {'accuracy': 0.9020567, 'val_loss': 1.5935468071946701}\n",
      "New best model! Val accuracy: 0.9020566940307617\n"
     ]
    },
    {
     "name": "stderr",
     "output_type": "stream",
     "text": [
      "Epoch 3: 100%|██████████| 1875/1875 [00:25<00:00, 73.51it/s, loss=1.6]\n"
     ]
    },
    {
     "name": "stdout",
     "output_type": "stream",
     "text": [
      "Train logs: {'accuracy': 0.8969333, 'train_loss': 1.596625604693095}\n"
     ]
    },
    {
     "name": "stderr",
     "output_type": "stream",
     "text": [
      "100%|██████████| 313/313 [00:02<00:00, 151.80it/s]\n"
     ]
    },
    {
     "name": "stdout",
     "output_type": "stream",
     "text": [
      "Val logs: {'accuracy': 0.90505195, 'val_loss': 1.5842923733373038}\n",
      "New best model! Val accuracy: 0.9050519466400146\n"
     ]
    },
    {
     "name": "stderr",
     "output_type": "stream",
     "text": [
      "Epoch 4: 100%|██████████| 1875/1875 [00:21<00:00, 85.32it/s, loss=1.59] \n"
     ]
    },
    {
     "name": "stdout",
     "output_type": "stream",
     "text": [
      "Train logs: {'accuracy': 0.90043336, 'train_loss': 1.5891961503982543}\n"
     ]
    },
    {
     "name": "stderr",
     "output_type": "stream",
     "text": [
      "100%|██████████| 313/313 [00:02<00:00, 131.24it/s]\n"
     ]
    },
    {
     "name": "stdout",
     "output_type": "stream",
     "text": [
      "Val logs: {'accuracy': 0.90804714, 'val_loss': 1.5786994253865445}\n",
      "New best model! Val accuracy: 0.9080471396446228\n"
     ]
    },
    {
     "name": "stderr",
     "output_type": "stream",
     "text": [
      "Epoch 5: 100%|██████████| 1875/1875 [00:26<00:00, 72.07it/s, loss=1.58]\n"
     ]
    },
    {
     "name": "stdout",
     "output_type": "stream",
     "text": [
      "Train logs: {'accuracy': 0.9036667, 'train_loss': 1.5842375937779745}\n"
     ]
    },
    {
     "name": "stderr",
     "output_type": "stream",
     "text": [
      "100%|██████████| 313/313 [00:02<00:00, 133.18it/s]\n"
     ]
    },
    {
     "name": "stdout",
     "output_type": "stream",
     "text": [
      "Val logs: {'accuracy': 0.90964454, 'val_loss': 1.5749676143780302}\n",
      "New best model! Val accuracy: 0.9096445441246033\n"
     ]
    },
    {
     "name": "stderr",
     "output_type": "stream",
     "text": [
      "Epoch 6: 100%|██████████| 1875/1875 [00:18<00:00, 100.47it/s, loss=1.58]\n"
     ]
    },
    {
     "name": "stdout",
     "output_type": "stream",
     "text": [
      "Train logs: {'accuracy': 0.9052, 'train_loss': 1.5803010094324748}\n"
     ]
    },
    {
     "name": "stderr",
     "output_type": "stream",
     "text": [
      "100%|██████████| 313/313 [00:02<00:00, 136.33it/s]\n"
     ]
    },
    {
     "name": "stdout",
     "output_type": "stream",
     "text": [
      "Val logs: {'accuracy': 0.90964454, 'val_loss': 1.5725442304397925}\n"
     ]
    },
    {
     "name": "stderr",
     "output_type": "stream",
     "text": [
      "Epoch 7: 100%|██████████| 1875/1875 [00:19<00:00, 94.02it/s, loss=1.58] \n"
     ]
    },
    {
     "name": "stdout",
     "output_type": "stream",
     "text": [
      "Train logs: {'accuracy': 0.9062167, 'train_loss': 1.5773451944986978}\n"
     ]
    },
    {
     "name": "stderr",
     "output_type": "stream",
     "text": [
      "100%|██████████| 313/313 [00:02<00:00, 128.94it/s]\n"
     ]
    },
    {
     "name": "stdout",
     "output_type": "stream",
     "text": [
      "Val logs: {'accuracy': 0.9136382, 'val_loss': 1.5687726625619225}\n",
      "New best model! Val accuracy: 0.913638174533844\n"
     ]
    },
    {
     "name": "stderr",
     "output_type": "stream",
     "text": [
      "Epoch 8: 100%|██████████| 1875/1875 [00:26<00:00, 72.01it/s, loss=1.57] \n"
     ]
    },
    {
     "name": "stdout",
     "output_type": "stream",
     "text": [
      "Train logs: {'accuracy': 0.9073833, 'train_loss': 1.5748097503662108}\n"
     ]
    },
    {
     "name": "stderr",
     "output_type": "stream",
     "text": [
      "100%|██████████| 313/313 [00:02<00:00, 153.72it/s]\n"
     ]
    },
    {
     "name": "stdout",
     "output_type": "stream",
     "text": [
      "Val logs: {'accuracy': 0.9153355, 'val_loss': 1.567171331030873}\n",
      "New best model! Val accuracy: 0.915335476398468\n"
     ]
    },
    {
     "name": "stderr",
     "output_type": "stream",
     "text": [
      "Epoch 9: 100%|██████████| 1875/1875 [00:21<00:00, 87.16it/s, loss=1.57] \n"
     ]
    },
    {
     "name": "stdout",
     "output_type": "stream",
     "text": [
      "Train logs: {'accuracy': 0.90826666, 'train_loss': 1.5726477542877197}\n"
     ]
    },
    {
     "name": "stderr",
     "output_type": "stream",
     "text": [
      "100%|██████████| 313/313 [00:01<00:00, 166.96it/s]\n"
     ]
    },
    {
     "name": "stdout",
     "output_type": "stream",
     "text": [
      "Val logs: {'accuracy': 0.9151358, 'val_loss': 1.5648915641985761}\n"
     ]
    },
    {
     "name": "stderr",
     "output_type": "stream",
     "text": [
      "Epoch 10: 100%|██████████| 1875/1875 [00:20<00:00, 90.23it/s, loss=1.57] \n"
     ]
    },
    {
     "name": "stdout",
     "output_type": "stream",
     "text": [
      "Train logs: {'accuracy': 0.90995, 'train_loss': 1.5707690342585245}\n"
     ]
    },
    {
     "name": "stderr",
     "output_type": "stream",
     "text": [
      "100%|██████████| 313/313 [00:02<00:00, 155.36it/s]"
     ]
    },
    {
     "name": "stdout",
     "output_type": "stream",
     "text": [
      "Val logs: {'accuracy': 0.91503596, 'val_loss': 1.5637373448179934}\n"
     ]
    },
    {
     "name": "stderr",
     "output_type": "stream",
     "text": [
      "\n"
     ]
    },
    {
     "data": {
      "text/plain": "<IPython.core.display.HTML object>",
      "text/html": "Waiting for W&B process to finish... <strong style=\"color:green\">(success).</strong>"
     },
     "metadata": {},
     "output_type": "display_data"
    },
    {
     "data": {
      "text/plain": "<IPython.core.display.HTML object>",
      "text/html": "<style>\n    table.wandb td:nth-child(1) { padding: 0 10px; text-align: left ; width: auto;} td:nth-child(2) {text-align: left ; width: 100%}\n    .wandb-row { display: flex; flex-direction: row; flex-wrap: wrap; justify-content: flex-start; width: 100% }\n    .wandb-col { display: flex; flex-direction: column; flex-basis: 100%; flex: 1; padding: 10px; }\n    </style>\n<div class=\"wandb-row\"><div class=\"wandb-col\"><h3>Run history:</h3><br/><table class=\"wandb\"><tr><td>train_accuracy</td><td>▁▆▇▇▇█████</td></tr><tr><td>train_loss</td><td>█▄▃▃▂▂▂▁▁▁</td></tr><tr><td>val_accuracy</td><td>▁▅▆▇▇▇████</td></tr><tr><td>val_loss</td><td>█▄▃▃▂▂▂▁▁▁</td></tr></table><br/></div><div class=\"wandb-col\"><h3>Run summary:</h3><br/><table class=\"wandb\"><tr><td>train_accuracy</td><td>0.90995</td></tr><tr><td>train_loss</td><td>1.57077</td></tr><tr><td>val_accuracy</td><td>0.91504</td></tr><tr><td>val_loss</td><td>1.56374</td></tr></table><br/></div></div>"
     },
     "metadata": {},
     "output_type": "display_data"
    },
    {
     "data": {
      "text/plain": "<IPython.core.display.HTML object>",
      "text/html": " View run <strong style=\"color:#cdcd00\">rosy-plant-1</strong> at: <a href='https://wandb.ai/knife_team/building-segmentation/runs/9i2wepia' target=\"_blank\">https://wandb.ai/knife_team/building-segmentation/runs/9i2wepia</a><br/> View job at <a href='https://wandb.ai/knife_team/building-segmentation/jobs/QXJ0aWZhY3RDb2xsZWN0aW9uOjExODI3MjQ0Nw==/version_details/v0' target=\"_blank\">https://wandb.ai/knife_team/building-segmentation/jobs/QXJ0aWZhY3RDb2xsZWN0aW9uOjExODI3MjQ0Nw==/version_details/v0</a><br/>Synced 5 W&B file(s), 0 media file(s), 2 artifact file(s) and 0 other file(s)"
     },
     "metadata": {},
     "output_type": "display_data"
    },
    {
     "data": {
      "text/plain": "<IPython.core.display.HTML object>",
      "text/html": "Find logs at: <code>./wandb/run-20231124_011311-9i2wepia/logs</code>"
     },
     "metadata": {},
     "output_type": "display_data"
    },
    {
     "data": {
      "text/plain": "([{'accuracy': 0.8355833, 'train_loss': 1.656434460957845},\n  {'accuracy': 0.88853335, 'train_loss': 1.6118717660268147},\n  {'accuracy': 0.8969333, 'train_loss': 1.596625604693095},\n  {'accuracy': 0.90043336, 'train_loss': 1.5891961503982543},\n  {'accuracy': 0.9036667, 'train_loss': 1.5842375937779745},\n  {'accuracy': 0.9052, 'train_loss': 1.5803010094324748},\n  {'accuracy': 0.9062167, 'train_loss': 1.5773451944986978},\n  {'accuracy': 0.9073833, 'train_loss': 1.5748097503662108},\n  {'accuracy': 0.90826666, 'train_loss': 1.5726477542877197},\n  {'accuracy': 0.90995, 'train_loss': 1.5707690342585245}],\n [{'accuracy': 0.87839454, 'val_loss': 1.6234733064334614},\n  {'accuracy': 0.9020567, 'val_loss': 1.5935468071946701},\n  {'accuracy': 0.90505195, 'val_loss': 1.5842923733373038},\n  {'accuracy': 0.90804714, 'val_loss': 1.5786994253865445},\n  {'accuracy': 0.90964454, 'val_loss': 1.5749676143780302},\n  {'accuracy': 0.90964454, 'val_loss': 1.5725442304397925},\n  {'accuracy': 0.9136382, 'val_loss': 1.5687726625619225},\n  {'accuracy': 0.9153355, 'val_loss': 1.567171331030873},\n  {'accuracy': 0.9151358, 'val_loss': 1.5648915641985761},\n  {'accuracy': 0.91503596, 'val_loss': 1.5637373448179934}])"
     },
     "execution_count": 43,
     "metadata": {},
     "output_type": "execute_result"
    }
   ],
   "source": [
    "model.train(loss=loss_fn, optimizer=optimizer,\n",
    "            train_loader=trainloader, val_loader=valloader,\n",
    "            metrics={\"accuracy\": lambda y_pred, y_true: torch.mean((torch.argmax(y_pred, dim=1) == y_true).float())},\n",
    "            target_metric=\"accuracy\",\n",
    "            epochs=10, verbose=True, wandb_logging=True)"
   ],
   "metadata": {
    "collapsed": false,
    "ExecuteTime": {
     "end_time": "2023-11-23T22:17:43.561065679Z",
     "start_time": "2023-11-23T22:13:11.394514747Z"
    }
   },
   "id": "e54358d9901c0de6"
  },
  {
   "cell_type": "code",
   "execution_count": null,
   "outputs": [],
   "source": [],
   "metadata": {
    "collapsed": false
   },
   "id": "c7806e00033aa9cc"
  }
 ],
 "metadata": {
  "kernelspec": {
   "display_name": "Python 3",
   "language": "python",
   "name": "python3"
  },
  "language_info": {
   "codemirror_mode": {
    "name": "ipython",
    "version": 2
   },
   "file_extension": ".py",
   "mimetype": "text/x-python",
   "name": "python",
   "nbconvert_exporter": "python",
   "pygments_lexer": "ipython2",
   "version": "2.7.6"
  }
 },
 "nbformat": 4,
 "nbformat_minor": 5
}
